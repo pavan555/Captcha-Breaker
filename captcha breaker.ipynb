{
 "cells": [
  {
   "cell_type": "markdown",
   "source": [
    "# Captcha Breaker\n",
    "I have done a project on deep learning called simple captcha breaker based on deep learning\n",
    "for opencv written by Adrian Rosebrock.\n",
    " \n",
    " I am going to explain how i did this project.Here i created my own custom dataset by extracting each digits in the picture.\n",
    " \n",
    " There are mainly 4 parts in this Project.\n",
    " \n",
    " \n",
    " 1. Downloading a set of captcha images\n",
    " 2. Labeling and annotating images for our training\n",
    " 3. Training a CNN on our custom dataset\n",
    " 4. Evaluating and Testing our trained Convolutional Neural Network    "
   ],
   "metadata": {
    "collapsed": false,
    "pycharm": {
     "name": "#%% md\n"
    }
   }
  },
  {
   "cell_type": "markdown",
   "source": [
    "\n",
    "## 1. Downloading a set of captcha images\n",
    "first of all, select a website that will provide captchas like the below images. I have downloaded the images from [Simple CAPTCHA](https://www.e-zpassny.com/vector/jcaptcha.do) (note: which is not working right now)\n"
   ],
   "metadata": {
    "collapsed": false,
    "pycharm": {
     "name": "#%% md\n"
    }
   }
  },
  {
   "cell_type": "markdown",
   "source": [
    "  (i)![image](https://github.com/pavan555/Captcha-Breaker/blob/master/downloads/00036.jpg?raw=true) \n",
    "  \n",
    "  (ii)![image2](https://github.com/pavan555/Captcha-Breaker/blob/master/downloads/00087.jpg?raw=true)\n",
    "  \n",
    "  Figures : **Example Images**\n",
    "  "
   ],
   "metadata": {
    "collapsed": false,
    "pycharm": {
     "name": "#%% md\n"
    }
   }
  },
  {
   "cell_type": "markdown",
   "source": [
    "### The sample code for downloading the images is displayed below.\n",
    "\n",
    "```python\n",
    "r= requests.get(\"https://www.e-zpassny.com/vector/jcaptcha.do\")\n",
    "path=os.path.sep.join([args[\"output\"],\"{}.jpg\".format(str(total).zfill(5))])\n",
    "file = open(path,\"w\")\n",
    "file.write(r.content)\n",
    "file.close()\n",
    "```\n",
    "I downloaded approximately 500 images and saved in downloads path.\n",
    "\n",
    "However, these are just raw captcha images.\n",
    "We need to extract and label each of the digits in the captchas to create our training data set.\n",
    "This will be accomplished by next section.\n",
    "\n"
   ],
   "metadata": {
    "collapsed": false
   }
  },
  {
   "cell_type": "markdown",
   "source": [
    "\n",
    "##  2. Labeling and annotating images for our training\n"
   ],
   "metadata": {
    "collapsed": false,
    "pycharm": {
     "name": "#%% md\n"
    }
   }
  }
 ],
 "metadata": {
  "language_info": {
   "codemirror_mode": {
    "name": "ipython",
    "version": 2
   },
   "file_extension": ".py",
   "mimetype": "text/x-python",
   "name": "python",
   "nbconvert_exporter": "python",
   "pygments_lexer": "ipython2",
   "version": "2.7.6"
  },
  "kernelspec": {
   "name": "python2",
   "language": "python",
   "display_name": "Python 2"
  },
  "pycharm": {
   "stem_cell": {
    "cell_type": "raw",
    "source": [],
    "metadata": {
     "collapsed": false
    }
   }
  }
 },
 "nbformat": 4,
 "nbformat_minor": 0
}