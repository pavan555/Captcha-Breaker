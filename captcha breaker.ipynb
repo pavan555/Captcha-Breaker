{
 "cells": [
  {
   "cell_type": "markdown",
   "source": [
    "# Captcha Breaker\n",
    "I have done a project on deep learning called simple captcha breaker based on deep learning\n",
    "for opencv written by Adrian Rosebrock.\n",
    " \n",
    " I am going to explain how i did this project.Here i created my own custom dataset by extracting each digits in the picture.\n",
    " \n",
    " There are mainly 4 parts in this Project.\n",
    " \n",
    " \n",
    " 1. Downloading a set of captcha images\n",
    " 2. Labelling and annotating images for our training\n",
    " 3. Training a CNN on our custom dataset\n",
    " 4. Evaluating and Testing our trained Convolutional Neural Network    "
   ],
   "metadata": {
    "collapsed": false,
    "pycharm": {
     "name": "#%% md\n"
    }
   }
  },
  {
   "cell_type": "markdown",
   "source": [
    "\n",
    "## Downloading a set of captcha images\n",
    "first of all, select a website that will provide captchas like  [Really Simple CAPTCHA]()"
   ],
   "metadata": {
    "collapsed": false,
    "pycharm": {
     "name": "#%% md\n"
    }
   }
  }
 ],
 "metadata": {
  "language_info": {
   "codemirror_mode": {
    "name": "ipython",
    "version": 2
   },
   "file_extension": ".py",
   "mimetype": "text/x-python",
   "name": "python",
   "nbconvert_exporter": "python",
   "pygments_lexer": "ipython2",
   "version": "2.7.6"
  },
  "kernelspec": {
   "name": "python2",
   "language": "python",
   "display_name": "Python 2"
  },
  "pycharm": {
   "stem_cell": {
    "cell_type": "raw",
    "source": [],
    "metadata": {
     "collapsed": false
    }
   }
  }
 },
 "nbformat": 4,
 "nbformat_minor": 0
}